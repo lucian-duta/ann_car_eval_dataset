{
  "cells": [
    {
      "cell_type": "markdown",
      "metadata": {
        "id": "VIOOXsKqvCQc"
      },
      "source": [
        "# Importing the initial classes and libraries"
      ]
    },
    {
      "cell_type": "code",
      "execution_count": null,
      "metadata": {
        "id": "QGkIriYIDfX1"
      },
      "outputs": [],
      "source": [
        "import numpy as np\n",
        "import pandas as pd\n",
        "from random import randint\n",
        "from sklearn.utils import shuffle\n",
        "from sklearn.preprocessing import MinMaxScaler\n",
        "import matplotlib.pyplot as plt\n",
        "import tensorflow as tf"
      ]
    },
    {
      "cell_type": "code",
      "execution_count": null,
      "metadata": {
        "colab": {
          "base_uri": "https://localhost:8080/"
        },
        "id": "ISm3qZGWDkMt",
        "outputId": "5a54be59-5f72-4345-9ec5-b1f69f5edf88"
      },
      "outputs": [],
      "source": [
        "from google.colab import drive\n",
        "drive.mount('/content/drive')"
      ]
    },
    {
      "cell_type": "markdown",
      "metadata": {
        "id": "77HoA5T5EIe-"
      },
      "source": [
        "# Data pre-process"
      ]
    },
    {
      "cell_type": "markdown",
      "metadata": {
        "id": "kDGJllzzEuN0"
      },
      "source": [
        "Importing the file from google drive"
      ]
    },
    {
      "cell_type": "code",
      "execution_count": null,
      "metadata": {
        "id": "bNbAf9ctENKP"
      },
      "outputs": [],
      "source": [
        "df = pd.read_csv('/content/drive/MyDrive/Colab Notebooks/cars_data.csv')\n",
        "df.shape\n",
        "df = df.sample(frac=1) #randomizing the order of data to eliminate any patterns"
      ]
    },
    {
      "cell_type": "markdown",
      "metadata": {
        "id": "c8ZvfuC1E2bw"
      },
      "source": [
        "Show first 20 values"
      ]
    },
    {
      "cell_type": "code",
      "execution_count": null,
      "metadata": {
        "id": "Nkyba_a0EqKY"
      },
      "outputs": [],
      "source": [
        "df.head(20)"
      ]
    },
    {
      "cell_type": "markdown",
      "metadata": {
        "id": "Xr7YExGNFQ6F"
      },
      "source": [
        "Processing string data into numbers "
      ]
    },
    {
      "cell_type": "code",
      "execution_count": null,
      "metadata": {
        "id": "982UYNkYpbUk"
      },
      "outputs": [],
      "source": [
        "for col in df:\n",
        "    print(df[col].unique())"
      ]
    },
    {
      "cell_type": "code",
      "execution_count": null,
      "metadata": {
        "id": "3adCTtZlEqhm"
      },
      "outputs": [],
      "source": [
        "df['class_values'] = df['class_values'].replace({'unacc':0, 'acc':1, 'good':2, 'vgood':3})\n",
        "\n",
        "df['buying '] = df['buying '].replace({'low':0, 'med':1, 'high':2, 'vhigh':3})\n",
        "\n",
        "df['maint'] = df['maint'].replace({'low':0, 'med':1, 'high':2, 'vhigh':3})\n",
        "\n",
        "df['doors'] = df['doors'].replace({'2':0, '3':1, '4':2, '5more':3})\n",
        "\n",
        "df['persons'] = df['persons'].replace({'2':0, '4':1, 'more':2})\n",
        "\n",
        "df['lug_boots'] = df['lug_boots'].replace({'small':0, 'med':1, 'big':2})\n",
        "\n",
        "df['safety'] = df['safety'].replace({'low':0, 'med':1, 'high':2})"
      ]
    },
    {
      "cell_type": "code",
      "execution_count": null,
      "metadata": {
        "id": "UbrTlm3VHpDR"
      },
      "outputs": [],
      "source": [
        "df.hist()"
      ]
    },
    {
      "cell_type": "markdown",
      "metadata": {
        "id": "OcbjIIL0ZYJU"
      },
      "source": [
        "Plotting the class values to show dicrepancy of the classes"
      ]
    },
    {
      "cell_type": "code",
      "execution_count": null,
      "metadata": {
        "id": "zOBkE5VMo2lN"
      },
      "outputs": [],
      "source": [
        "for col in df:\n",
        "    print(df[col].unique())"
      ]
    },
    {
      "cell_type": "code",
      "execution_count": null,
      "metadata": {
        "id": "qsAgYULVY4Cq"
      },
      "outputs": [],
      "source": [
        "plt.hist((df.class_values))"
      ]
    },
    {
      "cell_type": "markdown",
      "metadata": {
        "id": "T2zgAWcHFVSg"
      },
      "source": [
        "# Assinging train and test data"
      ]
    },
    {
      "cell_type": "markdown",
      "metadata": {
        "id": "A6HlvFMTGRoy"
      },
      "source": [
        "Splitting samples and labels"
      ]
    },
    {
      "cell_type": "code",
      "execution_count": null,
      "metadata": {
        "id": "fkHVScDYGQ6s"
      },
      "outputs": [],
      "source": [
        "samples = df.iloc[:, 0:6]\n",
        "labels = df.iloc[:, 6]"
      ]
    },
    {
      "cell_type": "markdown",
      "metadata": {
        "id": "HuwunFvAvWIy"
      },
      "source": [
        "Encoding the labels"
      ]
    },
    {
      "cell_type": "code",
      "execution_count": null,
      "metadata": {
        "id": "flSfSO6UqEUa"
      },
      "outputs": [],
      "source": [
        "from sklearn.preprocessing import LabelEncoder\n",
        "lb = LabelEncoder()\n",
        "labels = lb.fit_transform(labels)"
      ]
    },
    {
      "cell_type": "markdown",
      "metadata": {
        "id": "X-OlCcrtvYWH"
      },
      "source": [
        "Scaling the samples"
      ]
    },
    {
      "cell_type": "code",
      "execution_count": null,
      "metadata": {
        "id": "MnKrfU4UqFLA"
      },
      "outputs": [],
      "source": [
        "from sklearn.preprocessing import StandardScaler\n",
        "sc = StandardScaler()\n",
        "sc.fit(samples)\n",
        "samples = sc.transform(samples)"
      ]
    },
    {
      "cell_type": "markdown",
      "metadata": {
        "id": "nypQsiWzGsYJ"
      },
      "source": [
        "Splitting train and test data"
      ]
    },
    {
      "cell_type": "code",
      "execution_count": null,
      "metadata": {
        "id": "xHKEQpDKF5UB"
      },
      "outputs": [],
      "source": [
        "from sklearn.model_selection import train_test_split\n",
        "train_samples, test_samples, train_labels, test_labels = train_test_split(samples,labels, test_size = 0.20, random_state = 1)"
      ]
    },
    {
      "cell_type": "markdown",
      "metadata": {
        "id": "puaDGmLQG9S5"
      },
      "source": [
        "Shape of train samples"
      ]
    },
    {
      "cell_type": "code",
      "execution_count": null,
      "metadata": {
        "id": "0lOSVKZSGylK"
      },
      "outputs": [],
      "source": [
        "train_samples.shape"
      ]
    },
    {
      "cell_type": "markdown",
      "metadata": {
        "id": "1d1N1CIuHIjm"
      },
      "source": [
        "Shape of train labels"
      ]
    },
    {
      "cell_type": "code",
      "execution_count": null,
      "metadata": {
        "id": "0Plk4N_PFhD2"
      },
      "outputs": [],
      "source": [
        "train_labels.shape"
      ]
    },
    {
      "cell_type": "markdown",
      "metadata": {
        "id": "p1IcdwTeHURx"
      },
      "source": [
        "Shape of test samples"
      ]
    },
    {
      "cell_type": "code",
      "execution_count": null,
      "metadata": {
        "id": "wjo3Z6wkHKYz"
      },
      "outputs": [],
      "source": [
        "test_samples.shape"
      ]
    },
    {
      "cell_type": "markdown",
      "metadata": {
        "id": "rPN9_z59HV4_"
      },
      "source": [
        "Shape of test lables"
      ]
    },
    {
      "cell_type": "code",
      "execution_count": null,
      "metadata": {
        "id": "2EBToaVvHMr4"
      },
      "outputs": [],
      "source": [
        "test_labels.shape"
      ]
    },
    {
      "cell_type": "markdown",
      "metadata": {
        "id": "H1QPYea0MHvz"
      },
      "source": [
        "# Use GPU for computing (optional)"
      ]
    },
    {
      "cell_type": "markdown",
      "metadata": {
        "id": "n3feoIJqMQq5"
      },
      "source": [
        "**WARNING !**\n",
        "USE ONLY IF YOUR INSTANCE SUPPORTS GPU USAGE\n",
        "\n"
      ]
    },
    {
      "cell_type": "code",
      "execution_count": null,
      "metadata": {
        "id": "1Ub2ot20MPtg"
      },
      "outputs": [],
      "source": [
        "\n",
        "physical_devices = tf.config.experimental.list_physical_devices('GPU')\n",
        "print(\"Num GPU\", len(physical_devices))\n",
        "tf.config.experimental.set_memory_growth(physical_devices[0], True)"
      ]
    },
    {
      "cell_type": "markdown",
      "metadata": {
        "id": "63Ew6bCtIvPb"
      },
      "source": [
        "# Plotting functions"
      ]
    },
    {
      "cell_type": "code",
      "execution_count": null,
      "metadata": {
        "id": "SurZ9rzQI1w3"
      },
      "outputs": [],
      "source": [
        "def plotacc(history,epochs): #function to plot training accuracy\n",
        "  loss_train = history.history['accuracy']\n",
        "  epochs = range(1,epochs+1)\n",
        "  plt.plot(epochs, loss_train, 'g', label='Training accuracy')\n",
        "  plt.title('Training accuracy')\n",
        "  plt.xlabel('Epochs')\n",
        "  plt.ylabel('Accuracy')\n",
        "  plt.legend()\n",
        "  plt.show()"
      ]
    },
    {
      "cell_type": "code",
      "execution_count": null,
      "metadata": {
        "id": "yiX3eKCVI8km"
      },
      "outputs": [],
      "source": [
        "def plotloss(history,epochs): #function to plot training loss\n",
        "  loss_train = history.history['loss']\n",
        "  epochs = range(1,epochs+1)\n",
        "  plt.plot(epochs, loss_train, 'r', label='Training loss')\n",
        "  plt.title('Training loss')\n",
        "  plt.xlabel('Epochs')\n",
        "  plt.ylabel('Loss')\n",
        "  plt.legend()\n",
        "  plt.show()"
      ]
    },
    {
      "cell_type": "code",
      "execution_count": null,
      "metadata": {
        "id": "Pu1IIEOZI-Dp"
      },
      "outputs": [],
      "source": [
        "def plotlosswval(history, epochs): #function to plot training loss against validation loss\n",
        "  loss_train = history.history['loss']\n",
        "  loss_val = history.history['val_loss']\n",
        "  epochs = range(1,epochs+1)\n",
        "  plt.plot(epochs, loss_train, 'g', label='Training loss')\n",
        "  plt.plot(epochs, loss_val, 'b', label='validation loss')\n",
        "  plt.title('Training and Validation loss')\n",
        "  plt.xlabel('Epochs')\n",
        "  plt.ylabel('Loss')\n",
        "  plt.legend()\n",
        "  plt.show()"
      ]
    },
    {
      "cell_type": "code",
      "execution_count": null,
      "metadata": {
        "id": "PzdMFKbUI_YM"
      },
      "outputs": [],
      "source": [
        "def plotaccwval(history,epochs): #function to plot training accuracy against validation accuracy \n",
        "  loss_train = history.history['accuracy']\n",
        "  loss_val = history.history['val_accuracy']\n",
        "  epochs = range(1,epochs+1)\n",
        "  plt.plot(epochs, loss_train, 'g', label='Training accuracy')\n",
        "  plt.plot(epochs, loss_val, 'b', label='validation accuracy')\n",
        "  plt.title('Training and Validation accuracy')\n",
        "  plt.xlabel('Epochs')\n",
        "  plt.ylabel('Accuracy')\n",
        "  plt.legend()\n",
        "  plt.show()"
      ]
    },
    {
      "cell_type": "markdown",
      "metadata": {
        "id": "RBW9ekwjJGxK"
      },
      "source": [
        "# Keras Sequential Model"
      ]
    },
    {
      "cell_type": "code",
      "execution_count": null,
      "metadata": {
        "id": "syqVmRILI_9Z"
      },
      "outputs": [],
      "source": [
        "from tensorflow.keras.models import Sequential\n",
        "from tensorflow.keras.layers import Activation, Dense, Dropout, Conv3D\n",
        "from tensorflow.keras.optimizers import SGD, Adam, Nadam\n",
        "from tensorflow.keras.constraints import max_norm\n",
        "from tensorflow.keras.metrics import categorical_crossentropy\n",
        "from tensorflow import keras\n",
        "from tensorflow.keras import layers\n",
        "from tensorflow.keras import regularizers"
      ]
    },
    {
      "cell_type": "markdown",
      "metadata": {
        "id": "jVnTjgd8JpGu"
      },
      "source": [
        "Testing the model to be used in 4 fold cross valitation"
      ]
    },
    {
      "cell_type": "code",
      "execution_count": null,
      "metadata": {
        "id": "O-7bPzmJJYPf"
      },
      "outputs": [],
      "source": [
        "model = keras.Sequential(\n",
        "      [\n",
        "          layers.Dense(30, input_dim=6, kernel_initializer='uniform', activation='relu', kernel_regularizer= tf.keras.regularizers.L2(0.5),bias_regularizer= tf.keras.regularizers.L2(0.9)),\n",
        "          layers.BatchNormalization(),\n",
        "          layers.Dense(60, kernel_initializer='uniform', activation='relu', kernel_constraint=tf.keras.constraints.MinMaxNorm(min_value=0.9, max_value=2, axis=0)),\n",
        "          layers.Dropout(0.2),\n",
        "          layers.Dense(10, kernel_initializer='uniform', activation='relu', kernel_constraint=tf.keras.constraints.MinMaxNorm(min_value=1.3, max_value=1.8, axis=0)),\n",
        "          layers.Dropout(0.1),\n",
        "          layers.Dense(1, kernel_initializer='uniform', activation='relu'),\n",
        "\n",
        "          \n",
        "         \n",
        "      ]\n",
        "  )"
      ]
    },
    {
      "cell_type": "markdown",
      "metadata": {
        "id": "OzYdmzdhKfSq"
      },
      "source": [
        "Summary of the model to be used"
      ]
    },
    {
      "cell_type": "code",
      "execution_count": null,
      "metadata": {
        "id": "qI8mNGrTKd63"
      },
      "outputs": [],
      "source": [
        "model.summary()"
      ]
    },
    {
      "cell_type": "markdown",
      "metadata": {
        "id": "fktxgv3zJwwX"
      },
      "source": [
        "Choosing the number of epochs"
      ]
    },
    {
      "cell_type": "code",
      "execution_count": null,
      "metadata": {
        "id": "bz3wsfQ6Je7z"
      },
      "outputs": [],
      "source": [
        "epochs = 600"
      ]
    },
    {
      "cell_type": "markdown",
      "metadata": {
        "id": "bJzZHVSbJ0Na"
      },
      "source": [
        "Declaring the optimiser"
      ]
    },
    {
      "cell_type": "markdown",
      "metadata": {
        "id": "DINFNDZDJ3B9"
      },
      "source": [
        "Compiling the model"
      ]
    },
    {
      "cell_type": "code",
      "execution_count": null,
      "metadata": {
        "id": "iivkiT8FXUaK"
      },
      "outputs": [],
      "source": [
        "model.compile(loss='mse', optimizer='adam', metrics=['accuracy'])"
      ]
    },
    {
      "cell_type": "code",
      "execution_count": null,
      "metadata": {
        "id": "zROQ-lONXfFX"
      },
      "outputs": [],
      "source": [
        "model.fit(train_samples, train_labels, epochs=600, batch_size=128, shuffle = True)\n",
        "scores = model.evaluate(test_samples, test_labels)\n",
        "print(\"%s: %.2f%%\" % (model.metrics_names[1], scores[1]*100))"
      ]
    },
    {
      "cell_type": "markdown",
      "metadata": {
        "id": "IJyC6QePJ6BS"
      },
      "source": [
        "Fitting the model"
      ]
    },
    {
      "cell_type": "code",
      "execution_count": null,
      "metadata": {
        "id": "kydSru0zJl7f"
      },
      "outputs": [],
      "source": [
        "history = model.fit(x=train_samples, y=train_labels, batch_size=500, epochs=epochs, validation_data=(test_samples, test_labels), shuffle=True, verbose=1)"
      ]
    },
    {
      "cell_type": "markdown",
      "metadata": {
        "id": "VHaXq5lwtcT9"
      },
      "source": [
        "Evaluating the model with a different method"
      ]
    },
    {
      "cell_type": "code",
      "execution_count": null,
      "metadata": {
        "id": "bgPxSQvHrPOF"
      },
      "outputs": [],
      "source": [
        "test_loss, test_acc = model.evaluate(test_samples, test_labels)\n",
        "#\n",
        "# Print the test accuracy\n",
        "#\n",
        "print('Test Accuracy: ', test_acc, '\\nTest Loss: ', test_loss)"
      ]
    },
    {
      "cell_type": "markdown",
      "metadata": {
        "id": "u6SwK8-mK5bN"
      },
      "source": [
        "# Results of the model with basic validation"
      ]
    },
    {
      "cell_type": "markdown",
      "metadata": {
        "id": "DTAxDyE5KSlN"
      },
      "source": [
        "Comparing training accuracy with validation accuracy"
      ]
    },
    {
      "cell_type": "code",
      "execution_count": null,
      "metadata": {
        "id": "lzEAOW7WKN-T"
      },
      "outputs": [],
      "source": [
        "plotaccwval(history, epochs)"
      ]
    },
    {
      "cell_type": "markdown",
      "metadata": {
        "id": "ucKsxo8pKrm6"
      },
      "source": [
        "Comparing training loss with validation loss"
      ]
    },
    {
      "cell_type": "code",
      "execution_count": null,
      "metadata": {
        "id": "v477XCQ1KZy6"
      },
      "outputs": [],
      "source": [
        "plotlosswval(history, epochs)"
      ]
    },
    {
      "cell_type": "markdown",
      "metadata": {
        "id": "tKlInyO3H7w4"
      },
      "source": [
        "# Defining K-Fold cross validator and metrics"
      ]
    },
    {
      "cell_type": "code",
      "execution_count": null,
      "metadata": {
        "id": "-S90s0FmIC53"
      },
      "outputs": [],
      "source": [
        "from sklearn.model_selection import KFold\n",
        "kfold = KFold(n_splits=4, shuffle=True) # creating the 4 fold validator\n",
        "acc_per_fold = [] # array to record the accuracy per fold\n",
        "loss_per_fold = [] # array to record the loss per fold\n",
        "over_acc = np.array # variable to keep the overall accuracy\n",
        "over_loss = np.array # variable to keep the overall loss"
      ]
    },
    {
      "cell_type": "markdown",
      "metadata": {
        "id": "n_Vb0nOgLtTM"
      },
      "source": [
        "# K-Fold cross validation"
      ]
    },
    {
      "cell_type": "code",
      "execution_count": null,
      "metadata": {
        "id": "3ED42qiYLyJo"
      },
      "outputs": [],
      "source": [
        "from sklearn.model_selection import train_test_split\n",
        "fold_no = 1\n",
        "acc_per_fold = [] # array to record the accuracy per fold\n",
        "loss_per_fold = []\n",
        "for train, test in kfold.split(samples, labels):\n",
        "\n",
        "\n",
        "  #Define the model\n",
        "  model = keras.Sequential(\n",
        "      [\n",
        "          layers.Dense(30, input_dim=6, kernel_initializer='uniform', activation='relu', kernel_regularizer= tf.keras.regularizers.L2(0.5),bias_regularizer= tf.keras.regularizers.L2(0.9)),\n",
        "          layers.BatchNormalization(),\n",
        "          layers.Dense(60, kernel_initializer='uniform', activation='relu', kernel_constraint=tf.keras.constraints.MinMaxNorm(min_value=0.9, max_value=2, axis=0)),\n",
        "          layers.Dropout(0.2),\n",
        "          layers.Dense(10, kernel_initializer='uniform', activation='relu', kernel_constraint=tf.keras.constraints.MinMaxNorm(min_value=1.3, max_value=1.8, axis=0)),\n",
        "          layers.Dropout(0.1),\n",
        "          layers.Dense(1, kernel_initializer='uniform', activation='relu'),\n",
        "\n",
        "          \n",
        "         \n",
        "      ]\n",
        "  )\n",
        " \n",
        "  \n",
        "\n",
        "  #Compile the model\n",
        "  model.compile(optimizer='Adam', loss='mean_squared_error', metrics=['accuracy'])\n",
        "\n",
        "  #print\n",
        "  print('\\n-------------------------------------------------------------------------------------------------')\n",
        "  print(f'Training for fold {fold_no}')\n",
        "\n",
        "  # Fit data to model\n",
        "  epochs = 600\n",
        "  history = model.fit(x=samples[train], y=labels[train], batch_size=256, epochs=epochs, shuffle=True, verbose=0)\n",
        "  #metrics\n",
        "  scores = model.evaluate(x=samples[test], y=labels[test], verbose=2)\n",
        "  print('\\n')\n",
        "  print(f'Prediction score for fold {fold_no}: {model.metrics_names[0]} of {scores[0]}; {model.metrics_names[1]} of {scores[1]*100}%')\n",
        "  acc_per_fold.append(scores[1]*100)\n",
        "  loss_per_fold.append(scores[0])\n",
        "\n",
        "  plotacc(history, epochs)\n",
        "  plotloss(history,epochs)\n",
        "\n",
        "  # next fold\n",
        "  fold_no = fold_no + 1\n"
      ]
    },
    {
      "cell_type": "markdown",
      "metadata": {
        "id": "Au5tEIjjOO_c"
      },
      "source": [
        "# Results"
      ]
    },
    {
      "cell_type": "markdown",
      "metadata": {
        "id": "DevlWNvIORjj"
      },
      "source": [
        "Accuracy per fold"
      ]
    },
    {
      "cell_type": "code",
      "execution_count": null,
      "metadata": {
        "id": "a0HaMXR_q0Ne"
      },
      "outputs": [],
      "source": [
        "print(\"Accuracy for each fold : \")\n",
        "k=1\n",
        "for i in acc_per_fold:\n",
        "    l = \"%.4f\" % i\n",
        "    print('Fold ', k,'is ', l)\n",
        "    k=k+1"
      ]
    },
    {
      "cell_type": "code",
      "execution_count": null,
      "metadata": {
        "id": "c3kcKKUlOE-h"
      },
      "outputs": [],
      "source": [
        "folds = range(1,5)\n",
        "plt.plot(folds, acc_per_fold, 'g', label='Accuracy')\n",
        "plt.title('Accuracy per fold')\n",
        "plt.xlabel('Fold')\n",
        "plt.ylabel('Accuracy')\n",
        "plt.legend()\n",
        "plt.show()"
      ]
    },
    {
      "cell_type": "markdown",
      "metadata": {
        "id": "o_qmy-9DOUxD"
      },
      "source": [
        "Loss per fold"
      ]
    },
    {
      "cell_type": "code",
      "execution_count": null,
      "metadata": {
        "id": "jQPhO7pzq16C"
      },
      "outputs": [],
      "source": [
        "print(\"Loss for each fold : \")\n",
        "k=1\n",
        "for i in loss_per_fold:\n",
        "    l = \"%.4f\" % i\n",
        "    print('Fold ', k,'is ', l)\n",
        "    k=k+1"
      ]
    },
    {
      "cell_type": "code",
      "execution_count": null,
      "metadata": {
        "id": "nGK3nAv1OKdQ"
      },
      "outputs": [],
      "source": [
        "folds = range(1,5)\n",
        "plt.plot(folds, loss_per_fold, 'r', label='Loss')\n",
        "plt.title('Loss per fold')\n",
        "plt.xlabel('Fold')\n",
        "plt.ylabel('Loss')\n",
        "plt.legend()\n",
        "plt.show()"
      ]
    }
  ],
  "metadata": {
    "accelerator": "GPU",
    "colab": {
      "collapsed_sections": [],
      "name": "Copy of Car_eval_pre-final.ipynb",
      "provenance": []
    },
    "kernelspec": {
      "display_name": "Python 3",
      "name": "python3"
    },
    "language_info": {
      "name": "python"
    }
  },
  "nbformat": 4,
  "nbformat_minor": 0
}
